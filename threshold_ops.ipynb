{
 "cells": [
  {
   "cell_type": "code",
   "execution_count": 2,
   "id": "1951f0b4-3457-4049-9ccb-54b8d8dac5ae",
   "metadata": {},
   "outputs": [],
   "source": [
    "import cv2\n",
    "import numpy as np"
   ]
  },
  {
   "cell_type": "markdown",
   "id": "3058b2da-687e-4b1a-a648-a51b83e278d4",
   "metadata": {},
   "source": [
    "### Por que definir a função abaixo?\n",
    "> O Jupyter Lab não consegue rodar função imshow() padrão do cv2, mas por que?\n",
    "\n",
    "A solução é muito simples quando você entende por que o Jupyter trava.\n",
    "O problema é que a caixa de imagem está usando o mesmo processo Python do kernel. Quando você executa isso a partir de um shell interativo, o shell espera que você volte da caixa de exibição da imagem. Mas o Jupyter quer reivindicar o controle de volta depois que você executou um bloco de comando. Portanto, não é bom esperar pela janela e você perde o controle do processo Python, travando tudo."
   ]
  },
  {
   "cell_type": "code",
   "execution_count": 3,
   "id": "2a7d71f5-0664-471d-96a5-05232b0e8fd4",
   "metadata": {},
   "outputs": [],
   "source": [
    "def imshow_in_jupyter(image):\n",
    "    cv2.imshow(\"imshow_in_jupyter\", image)\n",
    "    cv2.waitKey(0)\n",
    "    cv2.destroyAllWindows()"
   ]
  },
  {
   "cell_type": "markdown",
   "id": "83a3175a-c50e-475d-a0b4-b45609a36488",
   "metadata": {},
   "source": [
    "### Threshold Operations\n",
    "\n",
    "A aplicação de métodos simples de limiarização requer intervenção humana. Devemos especificar um valor limite T. Todas as intensidades de pixel abaixo de T são definidas como 255 (preto). E todas as intensidades de pixel maiores que T são definidas como 0 (branco).\n",
    "\n",
    "Também poderíamos aplicar o inverso dessa binarização definindo todos os pixels maiores que T como 255 e todas as intensidades de pixel abaixo de T como 0."
   ]
  },
  {
   "cell_type": "code",
   "execution_count": 6,
   "id": "51d7a2b2-be6c-44d9-9544-079eed8aeb16",
   "metadata": {},
   "outputs": [],
   "source": [
    "path = 'assets\\\\'"
   ]
  },
  {
   "cell_type": "code",
   "execution_count": 11,
   "id": "c5c23bb1-a538-4b82-a6e4-7dd36fee9abf",
   "metadata": {},
   "outputs": [],
   "source": [
    "# load the image\n",
    "image = cv2.imread(path + 'coins.jpg')\n",
    "imshow_in_jupyter(image)"
   ]
  },
  {
   "cell_type": "code",
   "execution_count": 17,
   "id": "a407e645-b35f-4c96-9266-5748035bec9a",
   "metadata": {},
   "outputs": [],
   "source": [
    "# converter a imagem pra escalas de cinza e dar um blur\n",
    "# estamos pré processando a imagem para que não tenhamos problema em analisar edges com alta frequencia\n",
    "# assim teremos uma segmentação mais \"limpa\" da imagem final\n",
    "gray = cv2.cvtColor(image, cv2.COLOR_BGR2GRAY)\n",
    "blurred = cv2.GaussianBlur(gray, (7, 7), 0)\n",
    "imshow_in_jupyter(image)"
   ]
  },
  {
   "cell_type": "code",
   "execution_count": 15,
   "id": "67f34765-ccd6-4fef-9a0a-8bea2348eeae",
   "metadata": {},
   "outputs": [],
   "source": [
    "# aplicando o thresholding\n",
    "_, threshInv = cv2.threshold(blurred, 200, 255, cv2.THRESH_BINARY_INV)\n",
    "# print(T)\n",
    "imshow_in_jupyter(threshInv)"
   ]
  },
  {
   "cell_type": "code",
   "execution_count": 18,
   "id": "c7dcccd5-f2ba-443f-9b3d-095706536653",
   "metadata": {},
   "outputs": [],
   "source": [
    "_, threshInv = cv2.threshold(blurred, 200, 255, cv2.THRESH_BINARY)\n",
    "imshow_in_jupyter(threshInv)"
   ]
  },
  {
   "cell_type": "code",
   "execution_count": 19,
   "id": "47016e51-a756-4953-b548-2c667cf17e29",
   "metadata": {},
   "outputs": [],
   "source": [
    "masked = cv2.bitwise_and(image, image, mask=threshInv)"
   ]
  },
  {
   "cell_type": "code",
   "execution_count": 20,
   "id": "ba8227e6-3448-4121-9f98-cb975ad11339",
   "metadata": {},
   "outputs": [],
   "source": [
    "imshow_in_jupyter(masked)"
   ]
  },
  {
   "cell_type": "markdown",
   "id": "5f9aa6a4-3d96-4004-8e27-8be4c914ed6b",
   "metadata": {},
   "source": [
    "### Operações Básicas e o método de Otsu\n",
    "\n",
    "Para o Thresholding simples, precisamos fornecer manualmente um valor limite de T. Para imagens simples em condições de iluminação controladas, pode ser possível dar um hardcode nesse valor.\n",
    "\n",
    "Mas em condições do mundo real, onde não temos nenhum conhecimento a priori das condições de iluminação, na verdade calculamos automaticamente um valor ideal de T usando o método de Otsu."
   ]
  }
 ],
 "metadata": {
  "kernelspec": {
   "display_name": "Python 3 (ipykernel)",
   "language": "python",
   "name": "python3"
  },
  "language_info": {
   "codemirror_mode": {
    "name": "ipython",
    "version": 3
   },
   "file_extension": ".py",
   "mimetype": "text/x-python",
   "name": "python",
   "nbconvert_exporter": "python",
   "pygments_lexer": "ipython3",
   "version": "3.10.4"
  }
 },
 "nbformat": 4,
 "nbformat_minor": 5
}
