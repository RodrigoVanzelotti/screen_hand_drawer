{
 "cells": [
  {
   "cell_type": "code",
   "execution_count": 3,
   "id": "a82266e6-7800-4421-902c-1b1921711d78",
   "metadata": {},
   "outputs": [],
   "source": [
    "import numpy as np\n",
    "import cv2"
   ]
  },
  {
   "cell_type": "markdown",
   "id": "8509d449-48dd-4020-97a1-43086e36c2de",
   "metadata": {
    "jp-MarkdownHeadingCollapsed": true,
    "tags": []
   },
   "source": [
    "### Por que definir a função abaixo?\n",
    "> O Jupyter Lab não consegue rodar função imshow() padrão do cv2, mas por que?\n",
    "\n",
    "A solução é muito simples quando você entende por que o Jupyter trava.\n",
    "O problema é que a caixa de imagem está usando o mesmo processo Python do kernel. Quando você executa isso a partir de um shell interativo, o shell espera que você volte da caixa de exibição da imagem. Mas o Jupyter quer reivindicar o controle de volta depois que você executou um bloco de comando. Portanto, não é bom esperar pela janela e você perde o controle do processo Python, travando tudo."
   ]
  },
  {
   "cell_type": "code",
   "execution_count": 1,
   "id": "1ddb5155-941a-487b-ac52-7c8f21b42509",
   "metadata": {},
   "outputs": [],
   "source": [
    "def imshow_in_jupyter(image):\n",
    "    cv2.imshow(\"imshow_in_jupyter\", image)\n",
    "    cv2.waitKey(0)\n",
    "    cv2.destroyAllWindows()"
   ]
  },
  {
   "cell_type": "markdown",
   "id": "a85575c3-363e-469d-a4c5-094efa8fa0eb",
   "metadata": {
    "jp-MarkdownHeadingCollapsed": true,
    "tags": []
   },
   "source": [
    "### Desenhando as formas de exemplo"
   ]
  },
  {
   "cell_type": "code",
   "execution_count": 4,
   "id": "aeecb7c0-d0e9-459d-a348-87c83aee9f5a",
   "metadata": {},
   "outputs": [],
   "source": [
    "# draw a rectangle\n",
    "rectangle = np.zeros((300, 300), dtype=\"uint8\")\n",
    "cv2.rectangle(rectangle, (25, 25), (275, 275), 255, -1)\n",
    "imshow_in_jupyter(rectangle)"
   ]
  },
  {
   "cell_type": "code",
   "execution_count": 5,
   "id": "05c561cd-913d-4567-8c88-6be6ebb9e859",
   "metadata": {},
   "outputs": [],
   "source": [
    "# draw a circle\n",
    "circle = np.zeros((300, 300), dtype = \"uint8\")\n",
    "cv2.circle(circle, (150, 150), 150, 255, -1)\n",
    "imshow_in_jupyter(circle)"
   ]
  },
  {
   "cell_type": "markdown",
   "id": "4e5ecf97-79d0-4239-8d31-1ed24095f757",
   "metadata": {
    "jp-MarkdownHeadingCollapsed": true,
    "tags": []
   },
   "source": [
    "### Exemplos de Bitwise Ops\n",
    "\n",
    "**AND**: A bitwise AND is true if and only if both pixels are greater than zero.\n",
    "\n",
    "**OR**: A bitwise OR is true if either of the two pixels is greater than zero.\n",
    "\n",
    "**XOR**: A bitwise XOR is true if and only if one of the two pixels is greater than zero, but not both.\n",
    "\n",
    "**NOT**: A bitwise NOT inverts the “on” and “off” pixels in an image."
   ]
  },
  {
   "cell_type": "code",
   "execution_count": 10,
   "id": "b895ef8c-68b6-4177-ba24-c3a048d2f185",
   "metadata": {},
   "outputs": [],
   "source": [
    "# Bitwise AND -> Onde ambos estão presentes\n",
    "bitwiseAnd = cv2.bitwise_and(rectangle, circle)\n",
    "imshow_in_jupyter(bitwiseAnd)"
   ]
  },
  {
   "cell_type": "code",
   "execution_count": 11,
   "id": "27bfd44e-e06d-4583-bf78-d94c2e2e4771",
   "metadata": {},
   "outputs": [],
   "source": [
    "# Bitwise OR -> Onde qualquer um dos dois precisa estar presente\n",
    "bitwiseOr = cv2.bitwise_or(rectangle, circle)\n",
    "imshow_in_jupyter(bitwiseOr)"
   ]
  },
  {
   "cell_type": "code",
   "execution_count": 8,
   "id": "8d4e9f7e-8254-465a-ac04-089c02f54f52",
   "metadata": {},
   "outputs": [],
   "source": [
    "# Bitwise XOR -> Nega todos os pontos onde ambos estiverem presentes\n",
    "bitwiseXor = cv2.bitwise_xor(rectangle, circle)\n",
    "imshow_in_jupyter(bitwiseXor)"
   ]
  },
  {
   "cell_type": "code",
   "execution_count": 9,
   "id": "254f132a-be6b-4046-95cc-cfbfd56265f2",
   "metadata": {},
   "outputs": [],
   "source": [
    "# Bitwise NOT -> Onde não há nenhum ponto presente\n",
    "bitwiseNot = cv2.bitwise_not(circle)\n",
    "imshow_in_jupyter(bitwiseNot)"
   ]
  }
 ],
 "metadata": {
  "kernelspec": {
   "display_name": "Python 3 (ipykernel)",
   "language": "python",
   "name": "python3"
  },
  "language_info": {
   "codemirror_mode": {
    "name": "ipython",
    "version": 3
   },
   "file_extension": ".py",
   "mimetype": "text/x-python",
   "name": "python",
   "nbconvert_exporter": "python",
   "pygments_lexer": "ipython3",
   "version": "3.10.4"
  }
 },
 "nbformat": 4,
 "nbformat_minor": 5
}
